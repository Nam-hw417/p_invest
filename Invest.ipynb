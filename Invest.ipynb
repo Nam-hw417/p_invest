{
 "cells": [
  {
   "cell_type": "code",
   "execution_count": 69,
   "metadata": {},
   "outputs": [],
   "source": [
    "import pandas as pd\n",
    "import numpy as np\n",
    "import re"
   ]
  },
  {
   "cell_type": "code",
   "execution_count": 7,
   "metadata": {},
   "outputs": [],
   "source": [
    "import warnings \n",
    "warnings.filterwarnings('ignore')"
   ]
  },
  {
   "cell_type": "code",
   "execution_count": 3,
   "metadata": {},
   "outputs": [
    {
     "name": "stdout",
     "output_type": "stream",
     "text": [
      "[투자전략팀] 현존 외투기업 연도별 신고도착금액 (2010-2022) (16000여개사).xlsx\n",
      "(230105) AI 투자유망지수 개발 Dataset_v.3.xlsx\n",
      "invest_corr.csv\n",
      "Invest.ipynb\n",
      "Invest_Prediction.csv\n",
      "invest_re.ipynb\n",
      "XGB_VAR_IMP.csv\n"
     ]
    }
   ],
   "source": [
    "ls"
   ]
  },
  {
   "cell_type": "code",
   "execution_count": 4,
   "metadata": {},
   "outputs": [],
   "source": [
    "pd.set_option('display.max_columns', None)"
   ]
  },
  {
   "cell_type": "code",
   "execution_count": 108,
   "metadata": {},
   "outputs": [],
   "source": [
    "def make_data():\n",
    "    data = pd.read_excel('(230105) AI 투자유망지수 개발 Dataset_v.3.xlsx', engine = 'openpyxl', dtype = {'사업자등록번호':str, '세분류명(4계층)':str})\n",
    "    full_data = pd.read_excel('[투자전략팀] 현존 외투기업 연도별 신고도착금액 (2010-2022) (16000여개사).xlsx', dtype = {'사업자번호':str}, engine = 'openpyxl')\n",
    "    temp_data = full_data.filter(regex = '2010|2011|2012|2013|2014|2015|2016|사업자')\n",
    "    temp_data.rename(columns = {'사업자번호':'사업자등록번호'}, inplace = True)\n",
    "    data = data.merge(temp_data, how = 'left')\n",
    "    \n",
    "    return data\n",
    "    "
   ]
  },
  {
   "cell_type": "code",
   "execution_count": 109,
   "metadata": {},
   "outputs": [],
   "source": [
    "data = make_data()"
   ]
  },
  {
   "cell_type": "code",
   "execution_count": 110,
   "metadata": {},
   "outputs": [
    {
     "data": {
      "text/html": [
       "<div>\n",
       "<style scoped>\n",
       "    .dataframe tbody tr th:only-of-type {\n",
       "        vertical-align: middle;\n",
       "    }\n",
       "\n",
       "    .dataframe tbody tr th {\n",
       "        vertical-align: top;\n",
       "    }\n",
       "\n",
       "    .dataframe thead th {\n",
       "        text-align: right;\n",
       "    }\n",
       "</style>\n",
       "<table border=\"1\" class=\"dataframe\">\n",
       "  <thead>\n",
       "    <tr style=\"text-align: right;\">\n",
       "      <th></th>\n",
       "      <th>업체코드</th>\n",
       "      <th>업체명</th>\n",
       "      <th>국가</th>\n",
       "      <th>투자자명</th>\n",
       "      <th>표준산업\\n분류코드</th>\n",
       "      <th>대표업종</th>\n",
       "      <th>세분류명(4계층)</th>\n",
       "      <th>사업자등록번호</th>\n",
       "      <th>종업원 수</th>\n",
       "      <th>매출액(2017)</th>\n",
       "      <th>매출액(2018)</th>\n",
       "      <th>매출액(2019)</th>\n",
       "      <th>매출액(2020)</th>\n",
       "      <th>매출액(2021)</th>\n",
       "      <th>영업이익(2017)</th>\n",
       "      <th>영업이익(2018)</th>\n",
       "      <th>영업이익(2019)</th>\n",
       "      <th>영업이익(2020)</th>\n",
       "      <th>영업이익(2021)</th>\n",
       "      <th>미처분이익잉여금(2017)</th>\n",
       "      <th>미처분이익잉여금(2018)</th>\n",
       "      <th>미처분이익잉여금(2019)</th>\n",
       "      <th>미처분이익잉여금(2020)</th>\n",
       "      <th>미처분이익잉여금(2021)</th>\n",
       "      <th>매출액증가율(2017)</th>\n",
       "      <th>매출액증가율(2018)</th>\n",
       "      <th>매출액증가율(2019)</th>\n",
       "      <th>매출액증가율(2020)</th>\n",
       "      <th>매출액증가율(2021)</th>\n",
       "      <th>매출액영업이익율(2017)</th>\n",
       "      <th>매출액영업이익율(2018)</th>\n",
       "      <th>매출액영업이익율(2019)</th>\n",
       "      <th>매출액영업이익율(2020)</th>\n",
       "      <th>매출액영업이익율(2021)</th>\n",
       "      <th>수출액(2017)</th>\n",
       "      <th>수출액(2018)</th>\n",
       "      <th>수출액(2019)</th>\n",
       "      <th>수출액(2020)</th>\n",
       "      <th>수출액(2021)</th>\n",
       "      <th>수출액(2022)</th>\n",
       "      <th>투자신고금액(2017)</th>\n",
       "      <th>투자신고금액(2018)</th>\n",
       "      <th>투자신고금액(2019)</th>\n",
       "      <th>투자신고금액(2020)</th>\n",
       "      <th>투자신고금액(2021)</th>\n",
       "      <th>투자신고금액(2022)</th>\n",
       "      <th>투자도착금액(2017)</th>\n",
       "      <th>투자도착금액(2018)</th>\n",
       "      <th>투자도착금액(2019)</th>\n",
       "      <th>투자도착금액(2020)</th>\n",
       "      <th>투자도착금액(2021)</th>\n",
       "      <th>투자도착금액(2022)</th>\n",
       "      <th>투자신고금액(2010)</th>\n",
       "      <th>투자신고금액(2011)</th>\n",
       "      <th>투자신고금액(2012)</th>\n",
       "      <th>투자신고금액(2013)</th>\n",
       "      <th>투자신고금액(2014)</th>\n",
       "      <th>투자신고금액(2015)</th>\n",
       "      <th>투자신고금액(2016)</th>\n",
       "      <th>투자도착금액(2010)</th>\n",
       "      <th>투자도착금액(2011)</th>\n",
       "      <th>투자도착금액(2012)</th>\n",
       "      <th>투자도착금액(2013)</th>\n",
       "      <th>투자도착금액(2014)</th>\n",
       "      <th>투자도착금액(2015)</th>\n",
       "      <th>투자도착금액(2016)</th>\n",
       "    </tr>\n",
       "  </thead>\n",
       "  <tbody>\n",
       "    <tr>\n",
       "      <th>0</th>\n",
       "      <td>K0007017</td>\n",
       "      <td>신무림제지주식회사</td>\n",
       "      <td>IFC</td>\n",
       "      <td>INTERNATIONAL FINANCE CORP.외 1명</td>\n",
       "      <td>제지・목재</td>\n",
       "      <td>펄프,종이 및 종이제품 제조업</td>\n",
       "      <td>17122</td>\n",
       "      <td>6138100289</td>\n",
       "      <td>423.0</td>\n",
       "      <td>452156896.0</td>\n",
       "      <td>482776100.0</td>\n",
       "      <td>495818141.0</td>\n",
       "      <td>404975197.0</td>\n",
       "      <td>456065042.0</td>\n",
       "      <td>14384859.0</td>\n",
       "      <td>2378110.0</td>\n",
       "      <td>10821950.0</td>\n",
       "      <td>8308082.0</td>\n",
       "      <td>-18404330.0</td>\n",
       "      <td>127248658.0</td>\n",
       "      <td>118637754.0</td>\n",
       "      <td>113348363.0</td>\n",
       "      <td>115775586.0</td>\n",
       "      <td>96738853.0</td>\n",
       "      <td>-5.29</td>\n",
       "      <td>6.77</td>\n",
       "      <td>2.7</td>\n",
       "      <td>-18.32</td>\n",
       "      <td>12.62</td>\n",
       "      <td>3.18</td>\n",
       "      <td>0.49</td>\n",
       "      <td>2.18</td>\n",
       "      <td>2.05</td>\n",
       "      <td>-4.04</td>\n",
       "      <td>173463821.0</td>\n",
       "      <td>211861827.0</td>\n",
       "      <td>223324038.0</td>\n",
       "      <td>157055353.0</td>\n",
       "      <td>161226513.0</td>\n",
       "      <td>169448825.0</td>\n",
       "      <td>0</td>\n",
       "      <td>0</td>\n",
       "      <td>0</td>\n",
       "      <td>0</td>\n",
       "      <td>0</td>\n",
       "      <td>0</td>\n",
       "      <td>0</td>\n",
       "      <td>0</td>\n",
       "      <td>0</td>\n",
       "      <td>0</td>\n",
       "      <td>0</td>\n",
       "      <td>0</td>\n",
       "      <td>NaN</td>\n",
       "      <td>NaN</td>\n",
       "      <td>NaN</td>\n",
       "      <td>NaN</td>\n",
       "      <td>NaN</td>\n",
       "      <td>NaN</td>\n",
       "      <td>NaN</td>\n",
       "      <td>NaN</td>\n",
       "      <td>NaN</td>\n",
       "      <td>NaN</td>\n",
       "      <td>NaN</td>\n",
       "      <td>NaN</td>\n",
       "      <td>NaN</td>\n",
       "      <td>NaN</td>\n",
       "    </tr>\n",
       "  </tbody>\n",
       "</table>\n",
       "</div>"
      ],
      "text/plain": [
       "       업체코드        업체명   국가                             투자자명 표준산업\\n분류코드  \\\n",
       "0  K0007017  신무림제지주식회사  IFC  INTERNATIONAL FINANCE CORP.외 1명      제지・목재   \n",
       "\n",
       "               대표업종 세분류명(4계층)     사업자등록번호  종업원 수    매출액(2017)    매출액(2018)  \\\n",
       "0  펄프,종이 및 종이제품 제조업     17122  6138100289  423.0  452156896.0  482776100.0   \n",
       "\n",
       "     매출액(2019)    매출액(2020)    매출액(2021)  영업이익(2017)  영업이익(2018)  영업이익(2019)  \\\n",
       "0  495818141.0  404975197.0  456065042.0  14384859.0   2378110.0  10821950.0   \n",
       "\n",
       "   영업이익(2020)  영업이익(2021)  미처분이익잉여금(2017)  미처분이익잉여금(2018)  미처분이익잉여금(2019)  \\\n",
       "0   8308082.0 -18404330.0     127248658.0     118637754.0     113348363.0   \n",
       "\n",
       "   미처분이익잉여금(2020)  미처분이익잉여금(2021)  매출액증가율(2017)  매출액증가율(2018)  매출액증가율(2019)  \\\n",
       "0     115775586.0      96738853.0         -5.29          6.77           2.7   \n",
       "\n",
       "   매출액증가율(2020)  매출액증가율(2021)  매출액영업이익율(2017)  매출액영업이익율(2018)  매출액영업이익율(2019)  \\\n",
       "0        -18.32         12.62            3.18            0.49            2.18   \n",
       "\n",
       "   매출액영업이익율(2020)  매출액영업이익율(2021)    수출액(2017)    수출액(2018)    수출액(2019)  \\\n",
       "0            2.05           -4.04  173463821.0  211861827.0  223324038.0   \n",
       "\n",
       "     수출액(2020)    수출액(2021)    수출액(2022)  투자신고금액(2017)  투자신고금액(2018)  \\\n",
       "0  157055353.0  161226513.0  169448825.0             0             0   \n",
       "\n",
       "   투자신고금액(2019)  투자신고금액(2020)  투자신고금액(2021)  투자신고금액(2022)  투자도착금액(2017)  \\\n",
       "0             0             0             0             0             0   \n",
       "\n",
       "   투자도착금액(2018)  투자도착금액(2019)  투자도착금액(2020)  투자도착금액(2021)  투자도착금액(2022)  \\\n",
       "0             0             0             0             0             0   \n",
       "\n",
       "   투자신고금액(2010)  투자신고금액(2011)  투자신고금액(2012)  투자신고금액(2013)  투자신고금액(2014)  \\\n",
       "0           NaN           NaN           NaN           NaN           NaN   \n",
       "\n",
       "   투자신고금액(2015)  투자신고금액(2016)  투자도착금액(2010)  투자도착금액(2011)  투자도착금액(2012)  \\\n",
       "0           NaN           NaN           NaN           NaN           NaN   \n",
       "\n",
       "   투자도착금액(2013)  투자도착금액(2014)  투자도착금액(2015)  투자도착금액(2016)  \n",
       "0           NaN           NaN           NaN           NaN  "
      ]
     },
     "execution_count": 110,
     "metadata": {},
     "output_type": "execute_result"
    }
   ],
   "source": [
    "data.head(1)"
   ]
  },
  {
   "cell_type": "code",
   "execution_count": 179,
   "metadata": {},
   "outputs": [
    {
     "data": {
      "text/plain": [
       "55"
      ]
     },
     "execution_count": 179,
     "metadata": {},
     "output_type": "execute_result"
    }
   ],
   "source": [
    "len(data.columns) -11"
   ]
  },
  {
   "cell_type": "code",
   "execution_count": 149,
   "metadata": {},
   "outputs": [
    {
     "data": {
      "text/plain": [
       "0.05496049165935031"
      ]
     },
     "execution_count": 149,
     "metadata": {},
     "output_type": "execute_result"
    }
   ],
   "source": [
    "313/5695  # 0.055"
   ]
  },
  {
   "cell_type": "code",
   "execution_count": 111,
   "metadata": {},
   "outputs": [
    {
     "name": "stdout",
     "output_type": "stream",
     "text": [
      "28\n",
      "196\n",
      "720\n"
     ]
    }
   ],
   "source": [
    "# data.columns  # 산업, 대표업종, 세분류명(4계층) 을 어떻게 전처리 할 것인지??\n",
    "print(len(data['표준산업\\n분류코드'].value_counts()))\n",
    "print(len(data['대표업종'].value_counts()))\n",
    "print(len(data['세분류명(4계층)'].value_counts()))"
   ]
  },
  {
   "cell_type": "code",
   "execution_count": 112,
   "metadata": {},
   "outputs": [],
   "source": [
    "def preprocess_for_train(data):\n",
    "    \n",
    "    # 학습에 필요한 컬럼 정리\n",
    "    drop_cols = ['업체코드', '업체명', '투자자명','세분류명(4계층)']\n",
    "    dropcols_for_train = ['매출액(2021)', '영업이익(2021)', '미처분이익잉여금(2021)', '매출액증가율(2021)', \n",
    "                      '매출액영업이익율(2021)', '수출액(2022)', '투자도착금액(2022)']\n",
    "    \n",
    "    # dropcols_for_predict = ['매출액(2017)', '영업이익(2017)', '미처분이익잉여금(2017)', '매출액증가율(2017)', \n",
    "    #                  '매출액영업이익율(2017)', '수출액(2017)', '투자신고금액(2017)','투자도착금액(2017)']\n",
    "    \n",
    "    \n",
    "    # data['대표업종'] = data['대표업종'].str.replace('기타 교육기관|일반 교습학원','서비스업')\n",
    "    # data['대표업종'] = data['대표업종'].str.replace('측정, 시험, 항해, 제어 및 기타 정밀기기 제조업; 광학기기 제외','제조업')\n",
    "    # data['new_대표업종'] = data['대표업종'].apply(lambda x : re.findall('\\w+업',x)[0])\n",
    "    # data = data.drop(['대표업종'], axis=1)\n",
    "    \n",
    "    # detail_idx = data['세분류명(4계층)'].value_counts()[data['세분류명(4계층)'].value_counts() > 20].index.tolist()\n",
    "    # data['세분류명(4계층)'] = data['세분류명(4계층)'].apply(lambda x: x if x in detail_idx else '00000')\n",
    "    \n",
    "    \n",
    "    df = data.drop(drop_cols + dropcols_for_train, axis =1).copy()\n",
    "    X = df.drop(['투자신고금액(2022)'], axis = 1).set_index('사업자등록번호')\n",
    "    y = df['투자신고금액(2022)']\n",
    "    y = y.apply(lambda x: 1 if x >0 else 0)\n",
    "    X = pd.get_dummies(X)\n",
    "    \n",
    "    # 학습용 / 테스트용 데이터 분리\n",
    "    \n",
    "    from sklearn.model_selection import train_test_split\n",
    "    X_train, X_test, y_train, y_test = train_test_split(X, y, test_size = 0.3, random_state = 0)\n",
    "    \n",
    "    return X_train, X_test, y_train, y_test\n",
    "    \n",
    "    "
   ]
  },
  {
   "cell_type": "code",
   "execution_count": 113,
   "metadata": {},
   "outputs": [
    {
     "name": "stdout",
     "output_type": "stream",
     "text": [
      "(3986, 373) (1709, 373)\n"
     ]
    }
   ],
   "source": [
    "X_train, X_test, y_train, y_test = preprocess_for_train(data)\n",
    "print(X_train.shape, X_test.shape)"
   ]
  },
  {
   "cell_type": "code",
   "execution_count": 140,
   "metadata": {},
   "outputs": [
    {
     "data": {
      "text/plain": [
       "0    3756\n",
       "1     230\n",
       "Name: 투자신고금액(2022), dtype: int64"
      ]
     },
     "execution_count": 140,
     "metadata": {},
     "output_type": "execute_result"
    }
   ],
   "source": [
    "y_train.value_counts()"
   ]
  },
  {
   "cell_type": "code",
   "execution_count": 141,
   "metadata": {},
   "outputs": [
    {
     "data": {
      "text/plain": [
       "0    1626\n",
       "1      83\n",
       "Name: 투자신고금액(2022), dtype: int64"
      ]
     },
     "execution_count": 141,
     "metadata": {},
     "output_type": "execute_result"
    }
   ],
   "source": [
    "y_test.value_counts()"
   ]
  },
  {
   "cell_type": "code",
   "execution_count": 114,
   "metadata": {},
   "outputs": [],
   "source": [
    "# 평가함수 작성\n",
    "\n",
    "def eval_func(y_test, y_pred, y_pred_proba):\n",
    "    # 평가관련 필요함수 호출\n",
    "    from sklearn.metrics import accuracy_score, recall_score, precision_score, f1_score, roc_auc_score, confusion_matrix\n",
    "    \n",
    "    acc = accuracy_score(y_test, y_pred)\n",
    "    rec = recall_score(y_test, y_pred)\n",
    "    pre = precision_score(y_test, y_pred)\n",
    "    f1 = f1_score(y_test, y_pred)\n",
    "    roc = roc_auc_score(y_test, y_pred_proba)\n",
    "    print(confusion_matrix(y_test, y_pred))\n",
    "    print('ACC: {0:.4f}, RECALL: {1:.4f}, PRECISION: {2:.4f}, F1: {3:.4f}, ROC: {4:.4f}'.format(acc, rec, pre, f1, roc))"
   ]
  },
  {
   "cell_type": "code",
   "execution_count": 115,
   "metadata": {},
   "outputs": [],
   "source": [
    "from xgboost import XGBClassifier\n",
    "from lightgbm import LGBMClassifier"
   ]
  },
  {
   "cell_type": "code",
   "execution_count": 116,
   "metadata": {},
   "outputs": [],
   "source": [
    "# xgboost model # 추가하고 싶은 것은?? 전체 데이터 셋에 적용해서 투지여부 데이터 프레임으로 반환하도록 기능 변경\n",
    "\n",
    "def xgb_clf_model(X_train, X_test, y_train, y_test):\n",
    "    \n",
    "    xgb_clf_best = XGBClassifier(scale_pos_weight =20, n_estimators = 1500, \n",
    "                             learning_rate = 0.01, max_depth =15, colsample_bylevel =0.7)\n",
    "    \n",
    "    xgb_clf_best.fit(X_train, y_train)\n",
    "    y_pred = xgb_clf_best.predict(X_test)\n",
    "    y_pred_proba = xgb_clf_best.predict_proba(X_test)\n",
    "    eval_func(y_test, y_pred, y_pred_proba[:, 1])\n",
    "        "
   ]
  },
  {
   "cell_type": "code",
   "execution_count": 117,
   "metadata": {},
   "outputs": [
    {
     "name": "stdout",
     "output_type": "stream",
     "text": [
      "[11:55:33] WARNING: ../src/learner.cc:1061: Starting in XGBoost 1.3.0, the default evaluation metric used with the objective 'binary:logistic' was changed from 'error' to 'logloss'. Explicitly set eval_metric if you'd like to restore the old behavior.\n",
      "[[1598   28]\n",
      " [  61   22]]\n",
      "ACC: 0.9479, RECALL: 0.2651, PRECISION: 0.4400, F1: 0.3308, ROC: 0.7363\n"
     ]
    }
   ],
   "source": [
    "xgb_clf_model(X_train, X_test, y_train, y_test)"
   ]
  },
  {
   "cell_type": "code",
   "execution_count": 134,
   "metadata": {},
   "outputs": [],
   "source": [
    "# light gbm model\n",
    "\n",
    "def lgbm_clf_model(X_train, X_test, y_train, y_test):\n",
    "    \n",
    "    lgbm_clf_best = LGBMClassifier(scale_pos_weight = 20, num_leaves = 100, n_estimators = 1000, learning_rate = 0.01)\n",
    "    lgbm_clf_best.fit(X_train.values, y_train.values)\n",
    "    y_pred = lgbm_clf_best.predict(X_test.values)\n",
    "    y_pred_proba = lgbm_clf_best.predict_proba(X_test.values)\n",
    "    eval_func(y_test, y_pred, y_pred_proba[:, 1])\n"
   ]
  },
  {
   "cell_type": "code",
   "execution_count": 135,
   "metadata": {},
   "outputs": [
    {
     "name": "stdout",
     "output_type": "stream",
     "text": [
      "[[1608   18]\n",
      " [  62   21]]\n",
      "ACC: 0.9532, RECALL: 0.2530, PRECISION: 0.5385, F1: 0.3443, ROC: 0.7535\n"
     ]
    }
   ],
   "source": [
    "lgbm_clf_model(X_train, X_test, y_train, y_test)"
   ]
  },
  {
   "cell_type": "code",
   "execution_count": 121,
   "metadata": {},
   "outputs": [],
   "source": [
    "# 어떤 함수를 만들지?? 데이터를 넣을 경우 \n",
    "\n",
    "def preprocess_for_predict(data):\n",
    "     # 예측에 필요한 컬럼 정리\n",
    "    drop_cols = ['업체코드', '업체명', '투자자명', '세분류명(4계층)']\n",
    "    dropcols_for_predict = ['매출액(2017)', '영업이익(2017)', '미처분이익잉여금(2017)', '매출액증가율(2017)', \n",
    "                      '매출액영업이익율(2017)', '수출액(2017)', '투자신고금액(2017)','투자도착금액(2017)']\n",
    "    \n",
    "    X = data.drop(drop_cols + dropcols_for_predict, axis =1).copy().set_index('사업자등록번호')\n",
    "    X = pd.get_dummies(X)\n",
    "    \n",
    "    return X\n",
    "    \n"
   ]
  },
  {
   "cell_type": "code",
   "execution_count": 122,
   "metadata": {},
   "outputs": [
    {
     "data": {
      "text/plain": [
       "(5695, 373)"
      ]
     },
     "execution_count": 122,
     "metadata": {},
     "output_type": "execute_result"
    }
   ],
   "source": [
    "X = preprocess_for_predict(data)\n",
    "X.shape"
   ]
  },
  {
   "cell_type": "code",
   "execution_count": 201,
   "metadata": {},
   "outputs": [
    {
     "data": {
      "text/plain": [
       "(3986, 373)"
      ]
     },
     "execution_count": 201,
     "metadata": {},
     "output_type": "execute_result"
    }
   ],
   "source": [
    "X_train.shape"
   ]
  },
  {
   "cell_type": "code",
   "execution_count": 136,
   "metadata": {},
   "outputs": [],
   "source": [
    "lgbm_clf =  LGBMClassifier(scale_pos_weight = 20, num_leaves = 100, n_estimators = 1000, learning_rate = 0.01).fit(X_train.values, y_train.values)\n"
   ]
  },
  {
   "cell_type": "code",
   "execution_count": 125,
   "metadata": {},
   "outputs": [
    {
     "name": "stdout",
     "output_type": "stream",
     "text": [
      "[12:03:56] WARNING: ../src/learner.cc:1061: Starting in XGBoost 1.3.0, the default evaluation metric used with the objective 'binary:logistic' was changed from 'error' to 'logloss'. Explicitly set eval_metric if you'd like to restore the old behavior.\n"
     ]
    }
   ],
   "source": [
    "# xgb_clf = XGBClassifier(scale_pos_weight =20, n_estimators = 1500, \n",
    "#                              learning_rate = 0.01, max_depth =15, colsample_bylevel =0.7).fit(X_train.values, y_train.values)"
   ]
  },
  {
   "cell_type": "code",
   "execution_count": 137,
   "metadata": {},
   "outputs": [],
   "source": [
    "def make_final_predict(data, clf ='lgbm'):\n",
    "    \n",
    "    if clf == 'lgbm':\n",
    "        clf = lgbm_clf \n",
    "        pred = clf.predict(X.values)\n",
    "        proba = clf.predict_proba(X.values)\n",
    "        df = pd.DataFrame({'BSNO': X.index.tolist(), 'PRED':pred, 'PROB': proba[:, 1]})\n",
    "        \n",
    "    elif clf == 'xgb':\n",
    "        clf = xgb_clf\n",
    "        pred = clf.predict(X.values)\n",
    "        proba = clf.predict_proba(X.values)\n",
    "        df = pd.DataFrame({'BSNO': X.index.tolist(), 'PRED':pred, 'PROB': proba[:, 1]})\n",
    "        \n",
    "    return df\n",
    "        "
   ]
  },
  {
   "cell_type": "code",
   "execution_count": 154,
   "metadata": {},
   "outputs": [],
   "source": [
    "lgbm_predict_df = make_final_predict(X)\n",
    "lgbm_predict_df['PROB'] = np.round(lgbm_predict_df['PROB'],3) "
   ]
  },
  {
   "cell_type": "code",
   "execution_count": 156,
   "metadata": {},
   "outputs": [],
   "source": [
    "lgbm_predict_df.to_csv(\"INVEST_PRED.csv\", index = False, encoding = \"cp949\")"
   ]
  },
  {
   "cell_type": "code",
   "execution_count": null,
   "metadata": {},
   "outputs": [],
   "source": []
  },
  {
   "cell_type": "code",
   "execution_count": 220,
   "metadata": {},
   "outputs": [
    {
     "data": {
      "text/plain": [
       "<AxesSubplot:title={'center':'Feature importance'}, xlabel='Feature importance', ylabel='Features'>"
      ]
     },
     "execution_count": 220,
     "metadata": {},
     "output_type": "execute_result"
    },
    {
     "data": {
      "image/png": "[encoded data removed]",
      "text/plain": [
       "<Figure size 432x288 with 1 Axes>"
      ]
     },
     "metadata": {
      "needs_background": "light"
     },
     "output_type": "display_data"
    }
   ],
   "source": [
    "### 변수중요도 파악 ###\n",
    "import lightgbm as lgb\n",
    "lgb.plot_importance(lgbm_clf, max_num_features = 10)\n"
   ]
  },
  {
   "cell_type": "code",
   "execution_count": 221,
   "metadata": {},
   "outputs": [],
   "source": [
    "# 어떻게 하지?? # 20, 16, 0, 15, 4, 8, 9  # 직전년도 매출액영업이익률, 직전년도매출액증가율, 종업원수, 2년전 매출액증가율, 직전년도 매출액, 직전년도 영업이익 순임"
   ]
  },
  {
   "cell_type": "code",
   "execution_count": 228,
   "metadata": {},
   "outputs": [],
   "source": [
    "def make_feature_im_df():\n",
    "    feature_df = pd.DataFrame({\"col\":lgbm_clf.feature_name_, \"name\":X.columns, 'importance':lgbm_clf.feature_importances_})\n",
    "    feature_df = feature_df.sort_values(\"importance\", ascending = False)\n",
    "    return feature_df"
   ]
  },
  {
   "cell_type": "code",
   "execution_count": 229,
   "metadata": {},
   "outputs": [],
   "source": [
    "feature_im_df = make_feature_im_df()"
   ]
  },
  {
   "cell_type": "code",
   "execution_count": 233,
   "metadata": {},
   "outputs": [
    {
     "data": {
      "text/html": [
       "<div>\n",
       "<style scoped>\n",
       "    .dataframe tbody tr th:only-of-type {\n",
       "        vertical-align: middle;\n",
       "    }\n",
       "\n",
       "    .dataframe tbody tr th {\n",
       "        vertical-align: top;\n",
       "    }\n",
       "\n",
       "    .dataframe thead th {\n",
       "        text-align: right;\n",
       "    }\n",
       "</style>\n",
       "<table border=\"1\" class=\"dataframe\">\n",
       "  <thead>\n",
       "    <tr style=\"text-align: right;\">\n",
       "      <th></th>\n",
       "      <th>col</th>\n",
       "      <th>name</th>\n",
       "      <th>importance</th>\n",
       "    </tr>\n",
       "  </thead>\n",
       "  <tbody>\n",
       "    <tr>\n",
       "      <th>20</th>\n",
       "      <td>Column_20</td>\n",
       "      <td>매출액영업이익율(2021)</td>\n",
       "      <td>5798</td>\n",
       "    </tr>\n",
       "    <tr>\n",
       "      <th>16</th>\n",
       "      <td>Column_16</td>\n",
       "      <td>매출액증가율(2021)</td>\n",
       "      <td>5455</td>\n",
       "    </tr>\n",
       "    <tr>\n",
       "      <th>0</th>\n",
       "      <td>Column_0</td>\n",
       "      <td>종업원 수</td>\n",
       "      <td>5116</td>\n",
       "    </tr>\n",
       "    <tr>\n",
       "      <th>15</th>\n",
       "      <td>Column_15</td>\n",
       "      <td>매출액증가율(2020)</td>\n",
       "      <td>4167</td>\n",
       "    </tr>\n",
       "    <tr>\n",
       "      <th>4</th>\n",
       "      <td>Column_4</td>\n",
       "      <td>매출액(2021)</td>\n",
       "      <td>3960</td>\n",
       "    </tr>\n",
       "    <tr>\n",
       "      <th>8</th>\n",
       "      <td>Column_8</td>\n",
       "      <td>영업이익(2021)</td>\n",
       "      <td>3819</td>\n",
       "    </tr>\n",
       "    <tr>\n",
       "      <th>19</th>\n",
       "      <td>Column_19</td>\n",
       "      <td>매출액영업이익율(2020)</td>\n",
       "      <td>3704</td>\n",
       "    </tr>\n",
       "    <tr>\n",
       "      <th>12</th>\n",
       "      <td>Column_12</td>\n",
       "      <td>미처분이익잉여금(2021)</td>\n",
       "      <td>3702</td>\n",
       "    </tr>\n",
       "    <tr>\n",
       "      <th>13</th>\n",
       "      <td>Column_13</td>\n",
       "      <td>매출액증가율(2018)</td>\n",
       "      <td>3503</td>\n",
       "    </tr>\n",
       "    <tr>\n",
       "      <th>3</th>\n",
       "      <td>Column_3</td>\n",
       "      <td>매출액(2020)</td>\n",
       "      <td>3191</td>\n",
       "    </tr>\n",
       "    <tr>\n",
       "      <th>7</th>\n",
       "      <td>Column_7</td>\n",
       "      <td>영업이익(2020)</td>\n",
       "      <td>3075</td>\n",
       "    </tr>\n",
       "    <tr>\n",
       "      <th>14</th>\n",
       "      <td>Column_14</td>\n",
       "      <td>매출액증가율(2019)</td>\n",
       "      <td>2914</td>\n",
       "    </tr>\n",
       "    <tr>\n",
       "      <th>18</th>\n",
       "      <td>Column_18</td>\n",
       "      <td>매출액영업이익율(2019)</td>\n",
       "      <td>2802</td>\n",
       "    </tr>\n",
       "    <tr>\n",
       "      <th>17</th>\n",
       "      <td>Column_17</td>\n",
       "      <td>매출액영업이익율(2018)</td>\n",
       "      <td>2743</td>\n",
       "    </tr>\n",
       "    <tr>\n",
       "      <th>11</th>\n",
       "      <td>Column_11</td>\n",
       "      <td>미처분이익잉여금(2020)</td>\n",
       "      <td>2737</td>\n",
       "    </tr>\n",
       "    <tr>\n",
       "      <th>2</th>\n",
       "      <td>Column_2</td>\n",
       "      <td>매출액(2019)</td>\n",
       "      <td>2736</td>\n",
       "    </tr>\n",
       "    <tr>\n",
       "      <th>6</th>\n",
       "      <td>Column_6</td>\n",
       "      <td>영업이익(2019)</td>\n",
       "      <td>2432</td>\n",
       "    </tr>\n",
       "    <tr>\n",
       "      <th>10</th>\n",
       "      <td>Column_10</td>\n",
       "      <td>미처분이익잉여금(2019)</td>\n",
       "      <td>2382</td>\n",
       "    </tr>\n",
       "    <tr>\n",
       "      <th>24</th>\n",
       "      <td>Column_24</td>\n",
       "      <td>수출액(2021)</td>\n",
       "      <td>2379</td>\n",
       "    </tr>\n",
       "    <tr>\n",
       "      <th>9</th>\n",
       "      <td>Column_9</td>\n",
       "      <td>미처분이익잉여금(2018)</td>\n",
       "      <td>2377</td>\n",
       "    </tr>\n",
       "    <tr>\n",
       "      <th>25</th>\n",
       "      <td>Column_25</td>\n",
       "      <td>수출액(2022)</td>\n",
       "      <td>2375</td>\n",
       "    </tr>\n",
       "    <tr>\n",
       "      <th>5</th>\n",
       "      <td>Column_5</td>\n",
       "      <td>영업이익(2018)</td>\n",
       "      <td>2241</td>\n",
       "    </tr>\n",
       "    <tr>\n",
       "      <th>1</th>\n",
       "      <td>Column_1</td>\n",
       "      <td>매출액(2018)</td>\n",
       "      <td>2010</td>\n",
       "    </tr>\n",
       "    <tr>\n",
       "      <th>23</th>\n",
       "      <td>Column_23</td>\n",
       "      <td>수출액(2020)</td>\n",
       "      <td>1892</td>\n",
       "    </tr>\n",
       "    <tr>\n",
       "      <th>30</th>\n",
       "      <td>Column_30</td>\n",
       "      <td>투자신고금액(2022)</td>\n",
       "      <td>1761</td>\n",
       "    </tr>\n",
       "    <tr>\n",
       "      <th>22</th>\n",
       "      <td>Column_22</td>\n",
       "      <td>수출액(2019)</td>\n",
       "      <td>1726</td>\n",
       "    </tr>\n",
       "    <tr>\n",
       "      <th>21</th>\n",
       "      <td>Column_21</td>\n",
       "      <td>수출액(2018)</td>\n",
       "      <td>1629</td>\n",
       "    </tr>\n",
       "    <tr>\n",
       "      <th>35</th>\n",
       "      <td>Column_35</td>\n",
       "      <td>투자도착금액(2022)</td>\n",
       "      <td>1428</td>\n",
       "    </tr>\n",
       "    <tr>\n",
       "      <th>29</th>\n",
       "      <td>Column_29</td>\n",
       "      <td>투자신고금액(2021)</td>\n",
       "      <td>1244</td>\n",
       "    </tr>\n",
       "    <tr>\n",
       "      <th>34</th>\n",
       "      <td>Column_34</td>\n",
       "      <td>투자도착금액(2021)</td>\n",
       "      <td>1135</td>\n",
       "    </tr>\n",
       "  </tbody>\n",
       "</table>\n",
       "</div>"
      ],
      "text/plain": [
       "          col            name  importance\n",
       "20  Column_20  매출액영업이익율(2021)        5798\n",
       "16  Column_16    매출액증가율(2021)        5455\n",
       "0    Column_0           종업원 수        5116\n",
       "15  Column_15    매출액증가율(2020)        4167\n",
       "4    Column_4       매출액(2021)        3960\n",
       "8    Column_8      영업이익(2021)        3819\n",
       "19  Column_19  매출액영업이익율(2020)        3704\n",
       "12  Column_12  미처분이익잉여금(2021)        3702\n",
       "13  Column_13    매출액증가율(2018)        3503\n",
       "3    Column_3       매출액(2020)        3191\n",
       "7    Column_7      영업이익(2020)        3075\n",
       "14  Column_14    매출액증가율(2019)        2914\n",
       "18  Column_18  매출액영업이익율(2019)        2802\n",
       "17  Column_17  매출액영업이익율(2018)        2743\n",
       "11  Column_11  미처분이익잉여금(2020)        2737\n",
       "2    Column_2       매출액(2019)        2736\n",
       "6    Column_6      영업이익(2019)        2432\n",
       "10  Column_10  미처분이익잉여금(2019)        2382\n",
       "24  Column_24       수출액(2021)        2379\n",
       "9    Column_9  미처분이익잉여금(2018)        2377\n",
       "25  Column_25       수출액(2022)        2375\n",
       "5    Column_5      영업이익(2018)        2241\n",
       "1    Column_1       매출액(2018)        2010\n",
       "23  Column_23       수출액(2020)        1892\n",
       "30  Column_30    투자신고금액(2022)        1761\n",
       "22  Column_22       수출액(2019)        1726\n",
       "21  Column_21       수출액(2018)        1629\n",
       "35  Column_35    투자도착금액(2022)        1428\n",
       "29  Column_29    투자신고금액(2021)        1244\n",
       "34  Column_34    투자도착금액(2021)        1135"
      ]
     },
     "execution_count": 233,
     "metadata": {},
     "output_type": "execute_result"
    }
   ],
   "source": [
    "feature_im_df.head(30)"
   ]
  },
  {
   "cell_type": "code",
   "execution_count": null,
   "metadata": {},
   "outputs": [],
   "source": []
  }
 ],
 "metadata": {
  "kernelspec": {
   "display_name": "Python 3",
   "language": "python",
   "name": "python3"
  },
  "language_info": {
   "codemirror_mode": {
    "name": "ipython",
    "version": 3
   },
   "file_extension": ".py",
   "mimetype": "text/x-python",
   "name": "python",
   "nbconvert_exporter": "python",
   "pygments_lexer": "ipython3",
   "version": "3.6.8"
  }
 },
 "nbformat": 4,
 "nbformat_minor": 4
}
